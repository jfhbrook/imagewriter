{
 "cells": [
  {
   "cell_type": "code",
   "execution_count": 1,
   "id": "a27f4688-b19d-40ae-995f-3881cfa4fdf2",
   "metadata": {},
   "outputs": [
    {
     "data": {
      "application/vnd.jupyter.widget-view+json": {
       "model_id": "7e80e7e671574953b68bd1631ff4e64d",
       "version_major": 2,
       "version_minor": 0
      },
      "text/plain": [
       "ControlPanel(children=(VBox(children=(HTML(value='<h4>Connection</h4>'), Connection(children=(Dropdown(descrip…"
      ]
     },
     "execution_count": 1,
     "metadata": {},
     "output_type": "execute_result"
    }
   ],
   "source": [
    "import dataclasses\n",
    "\n",
    "import serial\n",
    "from serial.tools.list_ports import comports\n",
    "import time\n",
    "\n",
    "from imagewriter.encoding.attributes import START_DOUBLE_WIDTH, STOP_DOUBLE_WIDTH\n",
    "from imagewriter.encoding.language import Language\n",
    "from imagewriter.encoding.motion import FF\n",
    "from imagewriter.widgets import ControlPanel\n",
    "from imagewriter.switch import DIPSwitches, SoftwareSwitches\n",
    "\n",
    "dip_switches = DIPSwitches.defaults()\n",
    "\n",
    "software_switches = dataclasses.replace(\n",
    "    SoftwareSwitches.defaults(dip_switches),\n",
    "    ignore_eighth_data_bit=False\n",
    ")\n",
    "\n",
    "control = ControlPanel(dip_switches, software_switches)\n",
    "\n",
    "\n",
    "def flush():\n",
    "    control.port.rts = False\n",
    "    time.sleep(0.1)\n",
    "    control.port.rts = True\n",
    "\n",
    "\n",
    "def disable_rtscts():\n",
    "    control.rtscts = False\n",
    "\n",
    "\n",
    "def enable_rtscts():\n",
    "    control.rtscts = True\n",
    "\n",
    "\n",
    "control"
   ]
  },
  {
   "cell_type": "code",
   "execution_count": null,
   "id": "b3911989-35c9-4765-b80b-1e413ac2f8b6",
   "metadata": {},
   "outputs": [],
   "source": [
    "from ipywidgets.embed import embed_minimal_html\n",
    "\n",
    "embed_minimal_html('dip_switches.html', views=[control.dip_switches], title=\"DIP Switches\")"
   ]
  },
  {
   "cell_type": "code",
   "execution_count": null,
   "id": "87262ebd-90b8-45ea-909c-80bc27f171a3",
   "metadata": {},
   "outputs": [],
   "source": [
    "control.update(\n",
    "    lf_when_line_full=False\n",
    ")\n",
    "    \n",
    "control.apply()\n",
    "\n",
    "i = 0\n",
    "\n",
    "while conn.cts and i < 2048:\n",
    "    conn.write(b\"x\")\n",
    "    i += 1\n",
    "\n",
    "print(f\"Printer accepted {i} bytes before disabling CTS\")\n",
    "\n",
    "disable_rtscts()\n",
    "\n",
    "conn.write(b\"Hello!\\r\\n\")\n",
    "\n",
    "enable_rtscts()\n",
    "\n",
    "toggle()"
   ]
  },
  {
   "cell_type": "code",
   "execution_count": null,
   "id": "e7ff238d-5a04-4e46-accd-c1608a6f76bc",
   "metadata": {},
   "outputs": [],
   "source": [
    "conn.write(b\"Hello world!\\r\\n\")"
   ]
  },
  {
   "cell_type": "code",
   "execution_count": null,
   "id": "a0cd5ff1-dc2a-464a-b316-7220b45b8ec2",
   "metadata": {},
   "outputs": [],
   "source": [
    "toggle()"
   ]
  },
  {
   "cell_type": "code",
   "execution_count": null,
   "id": "587aaa57-432c-44d9-b7e8-3c8ede8f15d9",
   "metadata": {},
   "outputs": [],
   "source": [
    "conn.port.rts = False"
   ]
  },
  {
   "cell_type": "code",
   "execution_count": null,
   "id": "b84b141c-850f-486a-b2ad-4cee58cc9312",
   "metadata": {},
   "outputs": [],
   "source": [
    "conn.port.rts = True"
   ]
  }
 ],
 "metadata": {
  "kernelspec": {
   "display_name": "Python 3 (ipykernel)",
   "language": "python",
   "name": "python3"
  },
  "language_info": {
   "codemirror_mode": {
    "name": "ipython",
    "version": 3
   },
   "file_extension": ".py",
   "mimetype": "text/x-python",
   "name": "python",
   "nbconvert_exporter": "python",
   "pygments_lexer": "ipython3",
   "version": "3.13.7"
  }
 },
 "nbformat": 4,
 "nbformat_minor": 5
}
