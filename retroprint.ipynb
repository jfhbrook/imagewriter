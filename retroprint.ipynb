{
 "cells": [
  {
   "cell_type": "code",
   "execution_count": 1,
   "id": "a27f4688-b19d-40ae-995f-3881cfa4fdf2",
   "metadata": {},
   "outputs": [
    {
     "data": {
      "application/vnd.jupyter.widget-view+json": {
       "model_id": "b5b7facc5bec4362ba7da41cbab6e0df",
       "version_major": 2,
       "version_minor": 0
      },
      "text/plain": [
       "Connection(children=(Dropdown(description='Serial Port:', index=4, options=('/dev/cu.debug-console', '/dev/cu.…"
      ]
     },
     "execution_count": 1,
     "metadata": {},
     "output_type": "execute_result"
    }
   ],
   "source": [
    "import serial\n",
    "from serial.tools.list_ports import comports\n",
    "import time\n",
    "\n",
    "from imagewriter.debug import SerialStateObserver\n",
    "from imagewriter.encoding.attributes import START_DOUBLE_WIDTH, STOP_DOUBLE_WIDTH\n",
    "from imagewriter.encoding.language import Language\n",
    "from imagewriter.encoding.motion import FF\n",
    "from imagewriter.jupyter import Connection, Settings\n",
    "from imagewriter.switch import DIPSwitchSettings, SoftwareSwitchSettings\n",
    "\n",
    "conn = Connection()\n",
    "conn"
   ]
  },
  {
   "cell_type": "code",
   "execution_count": 2,
   "id": "1291d3d9-ebcb-47b7-aabb-4642dbe4d6f1",
   "metadata": {},
   "outputs": [
    {
     "data": {
      "application/vnd.jupyter.widget-view+json": {
       "model_id": "24b7d49631404330b8434233daf3a75d",
       "version_major": 2,
       "version_minor": 0
      },
      "text/plain": [
       "Activity(children=(HBox(children=(Label(value='DTR:'), Text(value=''))), HBox(children=(Label(value='DSR:'), T…"
      ]
     },
     "execution_count": 2,
     "metadata": {},
     "output_type": "execute_result"
    }
   ],
   "source": [
    "conn.activity"
   ]
  },
  {
   "cell_type": "code",
   "execution_count": 4,
   "id": "fb30f4ac-cd93-4439-aa21-c352d5414234",
   "metadata": {},
   "outputs": [
    {
     "data": {
      "application/vnd.jupyter.widget-view+json": {
       "model_id": "301817325f2d4fdaabb4626aa8abfcf1",
       "version_major": 2,
       "version_minor": 0
      },
      "text/plain": [
       "Settings(children=(Dropdown(description='Language:', options=('American', 'British', 'German', 'French', 'Swed…"
      ]
     },
     "execution_count": 4,
     "metadata": {},
     "output_type": "execute_result"
    }
   ],
   "source": [
    "dip_switches = DIPSwitchSettings.defaults()\n",
    "software_switches = SoftwareSwitchSettings.defaults(dip_switches)\n",
    "settings = Settings(software_switches, conn)\n",
    "\n",
    "settings"
   ]
  },
  {
   "cell_type": "code",
   "execution_count": null,
   "id": "834f9fea-6685-4652-81a2-7c44ebe9fca6",
   "metadata": {},
   "outputs": [],
   "source": [
    "def toggle():\n",
    "    conn.port.rts = False\n",
    "    time.sleep(0.1)\n",
    "    conn.port.rts = True\n",
    "\n",
    "\n",
    "def disable_rtscts():\n",
    "    conn.port.rtscts = False\n",
    "\n",
    "\n",
    "def enable_rtscts():\n",
    "    conn.port.rtscts = True"
   ]
  },
  {
   "cell_type": "code",
   "execution_count": null,
   "id": "87262ebd-90b8-45ea-909c-80bc27f171a3",
   "metadata": {},
   "outputs": [],
   "source": [
    "i = 0\n",
    "\n",
    "while conn.cts and i < 2048:\n",
    "    conn.write(b\"x\")\n",
    "    i += 1\n",
    "\n",
    "print(f\"Printer accepted {i} bytes before disabling CTS\")\n",
    "\n",
    "disable_rtscts()\n",
    "\n",
    "conn.write(b\"Hello!\\r\\n\")\n",
    "\n",
    "enable_rtscts()\n",
    "\n",
    "toggle()"
   ]
  },
  {
   "cell_type": "code",
   "execution_count": null,
   "id": "e7ff238d-5a04-4e46-accd-c1608a6f76bc",
   "metadata": {},
   "outputs": [],
   "source": [
    "conn.write(b\"Hello world!\\r\\n\")"
   ]
  },
  {
   "cell_type": "code",
   "execution_count": null,
   "id": "a0cd5ff1-dc2a-464a-b316-7220b45b8ec2",
   "metadata": {},
   "outputs": [],
   "source": [
    "toggle()"
   ]
  },
  {
   "cell_type": "code",
   "execution_count": null,
   "id": "587aaa57-432c-44d9-b7e8-3c8ede8f15d9",
   "metadata": {},
   "outputs": [],
   "source": [
    "conn.port.rts = False"
   ]
  },
  {
   "cell_type": "code",
   "execution_count": null,
   "id": "b84b141c-850f-486a-b2ad-4cee58cc9312",
   "metadata": {},
   "outputs": [],
   "source": [
    "conn.port.rts = True"
   ]
  }
 ],
 "metadata": {
  "kernelspec": {
   "display_name": "Python 3 (ipykernel)",
   "language": "python",
   "name": "python3"
  },
  "language_info": {
   "codemirror_mode": {
    "name": "ipython",
    "version": 3
   },
   "file_extension": ".py",
   "mimetype": "text/x-python",
   "name": "python",
   "nbconvert_exporter": "python",
   "pygments_lexer": "ipython3",
   "version": "3.13.7"
  }
 },
 "nbformat": 4,
 "nbformat_minor": 5
}
