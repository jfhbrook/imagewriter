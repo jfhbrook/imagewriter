{
 "cells": [
  {
   "cell_type": "code",
   "execution_count": null,
   "id": "a27f4688-b19d-40ae-995f-3881cfa4fdf2",
   "metadata": {},
   "outputs": [],
   "source": [
    "import serial\n",
    "\n",
    "# Port depends on system\n",
    "PORT = '/dev/ttys0'\n",
    "\n",
    "# Based on dip switches 2-1 and 2-2\n",
    "# BAUD_RATE = 300\n",
    "# BAUD_RATE = 1200\n",
    "# BAUD_RATE = 2400\n",
    "BAUD_RATE = 9600\n",
    "\n",
    "with serial.Serial(\n",
    "    PORT,\n",
    "    baudrate=BAUD_RATE,\n",
    "    bytesize=serial.EIGHTBITS,\n",
    "    stopbits=serial.STOPBITS_ONE,\n",
    "    parity=serial.PARITY_NONE,\n",
    ") as connection:\n",
    "    connection.write(b\"Hello world!\\n\")\n",
    "    print(connection.read(1))"
   ]
  },
  {
   "cell_type": "code",
   "execution_count": null,
   "id": "834f9fea-6685-4652-81a2-7c44ebe9fca6",
   "metadata": {},
   "outputs": [],
   "source": []
  }
 ],
 "metadata": {
  "kernelspec": {
   "display_name": "Python 3 (ipykernel)",
   "language": "python",
   "name": "python3"
  },
  "language_info": {
   "codemirror_mode": {
    "name": "ipython",
    "version": 3
   },
   "file_extension": ".py",
   "mimetype": "text/x-python",
   "name": "python",
   "nbconvert_exporter": "python",
   "pygments_lexer": "ipython3",
   "version": "3.13.5"
  }
 },
 "nbformat": 4,
 "nbformat_minor": 5
}
