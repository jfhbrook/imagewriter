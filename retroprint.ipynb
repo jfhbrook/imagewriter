{
 "cells": [
  {
   "cell_type": "code",
   "execution_count": 71,
   "id": "a27f4688-b19d-40ae-995f-3881cfa4fdf2",
   "metadata": {},
   "outputs": [
    {
     "name": "stdout",
     "output_type": "stream",
     "text": [
      "Before write:\n",
      "RTS: True\n",
      "CTS: True\n",
      "---\n",
      "After write:\n",
      "RTS: True\n",
      "CTS: True\n",
      "---\n",
      "After de-asserting RTS:\n",
      "RTS: False\n",
      "CTS: True\n",
      "---\n",
      "After sleeping 1s:\n",
      "RTS: False\n",
      "CTS: True\n",
      "---\n",
      "After re-asserting RTS:\n",
      "RTS: True\n",
      "CTS: True\n",
      "---\n",
      "Before write:\n",
      "RTS: True\n",
      "CTS: True\n",
      "---\n",
      "After write:\n",
      "RTS: True\n",
      "CTS: True\n",
      "---\n",
      "After de-asserting RTS:\n",
      "RTS: False\n",
      "CTS: True\n",
      "---\n",
      "After sleeping 1s:\n",
      "RTS: False\n",
      "CTS: True\n",
      "---\n",
      "After re-asserting RTS:\n",
      "RTS: True\n",
      "CTS: True\n",
      "---\n",
      "success\n"
     ]
    }
   ],
   "source": [
    "import serial\n",
    "import time\n",
    "\n",
    "from imagewriter.encoding.motion import FF\n",
    "\n",
    "# Port depends on system\n",
    "PORT = '/dev/cu.PL2303G-USBtoUART1120'\n",
    "\n",
    "BAUD_RATE = 9600\n",
    "\n",
    "with serial.Serial(\n",
    "    PORT,\n",
    "    baudrate=BAUD_RATE,\n",
    "    bytesize=serial.EIGHTBITS,\n",
    "    stopbits=serial.STOPBITS_ONE,\n",
    "    parity=serial.PARITY_NONE,\n",
    "    rtscts=True\n",
    ") as connection:\n",
    "    def write(data):\n",
    "        print(\"Before write:\")\n",
    "        print(\"RTS:\", connection.rts)\n",
    "        print(\"CTS:\", connection.cts)\n",
    "        print(\"---\")\n",
    "        connection.write(data)\n",
    "\n",
    "        print(\"After write:\")\n",
    "        print(\"RTS:\", connection.rts)\n",
    "        print(\"CTS:\", connection.cts)\n",
    "        print(\"---\")\n",
    "        \n",
    "        connection.rts = False\n",
    "\n",
    "        print(\"After de-asserting RTS:\")\n",
    "        print(\"RTS:\", connection.rts)\n",
    "        print(\"CTS:\", connection.cts)\n",
    "        print(\"---\")\n",
    "\n",
    "        # TODO: Can I log CTS during the whole sleep window?\n",
    "        time.sleep(0.01)\n",
    "\n",
    "        print(\"After sleeping 1s:\")\n",
    "        print(\"RTS:\", connection.rts)\n",
    "        print(\"CTS:\", connection.cts)\n",
    "        print(\"---\")\n",
    "\n",
    "        connection.rts = True\n",
    "\n",
    "        print(\"After re-asserting RTS:\")\n",
    "        print(\"RTS:\", connection.rts)\n",
    "        print(\"CTS:\", connection.cts)\n",
    "        print(\"---\")\n",
    "\n",
    "    write(b\"Hello world!\\r\\n\")\n",
    "    # write(FF + b\"\\r\")\n",
    "\n",
    "    print(\"success\")"
   ]
  },
  {
   "cell_type": "code",
   "execution_count": 62,
   "id": "834f9fea-6685-4652-81a2-7c44ebe9fca6",
   "metadata": {},
   "outputs": [
    {
     "data": {
      "text/plain": [
       "['/dev/cu.debug-console',\n",
       " '/dev/cu.JabraEvolve65',\n",
       " '/dev/cu.stardeck',\n",
       " '/dev/cu.Bluetooth-Incoming-Port',\n",
       " '/dev/cu.PL2303G-USBtoUART1120']"
      ]
     },
     "execution_count": 62,
     "metadata": {},
     "output_type": "execute_result"
    }
   ],
   "source": [
    "from serial.tools.list_ports import comports\n",
    "\n",
    "[ port.device for port in comports()]"
   ]
  },
  {
   "cell_type": "code",
   "execution_count": null,
   "id": "20c93b20-9d64-45dc-a91a-94ddb217554a",
   "metadata": {},
   "outputs": [],
   "source": []
  }
 ],
 "metadata": {
  "kernelspec": {
   "display_name": "Python 3 (ipykernel)",
   "language": "python",
   "name": "python3"
  },
  "language_info": {
   "codemirror_mode": {
    "name": "ipython",
    "version": 3
   },
   "file_extension": ".py",
   "mimetype": "text/x-python",
   "name": "python",
   "nbconvert_exporter": "python",
   "pygments_lexer": "ipython3",
   "version": "3.13.7"
  }
 },
 "nbformat": 4,
 "nbformat_minor": 5
}
