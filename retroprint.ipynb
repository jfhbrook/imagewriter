{
 "cells": [
  {
   "cell_type": "code",
   "execution_count": null,
   "id": "a27f4688-b19d-40ae-995f-3881cfa4fdf2",
   "metadata": {},
   "outputs": [],
   "source": [
    "import serial\n",
    "from serial.tools.list_ports import comports\n",
    "import time\n",
    "\n",
    "from imagewriter.debug import FlowControlLogger\n",
    "from imagewriter.encoding.motion import FF\n",
    "import imagewriter.serial\n",
    "\n",
    "PORT = '/dev/cu.PL2303G-USBtoUART1120' # Depends on system\n",
    "BAUD_RATE = 9600 # Depends on DIP switches"
   ]
  },
  {
   "cell_type": "code",
   "execution_count": null,
   "id": "834f9fea-6685-4652-81a2-7c44ebe9fca6",
   "metadata": {},
   "outputs": [],
   "source": [
    "def list_ports():\n",
    "    return [ port.device for port in comports()]\n",
    "    \n",
    "\n",
    "conn = None\n",
    "flow_control_logger = None\n",
    "\n",
    "\n",
    "def connect(subclass=False, log=True):\n",
    "    global conn\n",
    "    global flow_control_logger\n",
    "\n",
    "    if conn is None:\n",
    "        conn.close()\n",
    "\n",
    "    if subclass:\n",
    "        conn = imagewriter.serial.Serial(\n",
    "            port=PORT,\n",
    "            baudrate=BAUDRATE\n",
    "        )\n",
    "    else:\n",
    "        conn = serial.Serial(\n",
    "            port=PORT,\n",
    "            baudrate=BAUDRATE,\n",
    "            bytesize=serial.EIGHTBITS,\n",
    "            parity=serial.PARITY_NONE,\n",
    "            stopbits=serial.STOPBITS_ONE,\n",
    "            dsrdtr=True,\n",
    "            rtscts=False,\n",
    "            xonxoff=False\n",
    "        )\n",
    "\n",
    "    running = flow_control_logger.running if flow_control_logger else False\n",
    "\n",
    "    if flow_control_logger:\n",
    "        flow_control_logger.serial = conn\n",
    "        \n",
    "    else:\n",
    "        flow_control_logger = FlowControlLogger(conn)\n",
    "\n",
    "    if log and not running:\n",
    "        flow_control_logger.start()\n",
    "\n",
    "    conn.open()\n",
    "\n",
    "\n",
    "def close():\n",
    "    global conn\n",
    "    global flow_control_logger\n",
    "    \n",
    "    conn.close()\n",
    "    flow_control_logger.shutdown()\n",
    "    conn = None\n",
    "    flow_control_logger = None"
   ]
  },
  {
   "cell_type": "code",
   "execution_count": null,
   "id": "20c93b20-9d64-45dc-a91a-94ddb217554a",
   "metadata": {},
   "outputs": [],
   "source": [
    "connect(subclass=False, start_logger=True)"
   ]
  },
  {
   "cell_type": "code",
   "execution_count": null,
   "id": "42c8b617-6c37-47ef-b35e-44b711c8830d",
   "metadata": {
    "scrolled": true
   },
   "outputs": [],
   "source": [
    "flow_control_logger.start()"
   ]
  },
  {
   "cell_type": "code",
   "execution_count": null,
   "id": "647457c5-669a-41ce-aac2-b18d0e9658c2",
   "metadata": {},
   "outputs": [],
   "source": [
    "flow_control_logger.stop()"
   ]
  },
  {
   "cell_type": "code",
   "execution_count": null,
   "id": "87262ebd-90b8-45ea-909c-80bc27f171a3",
   "metadata": {},
   "outputs": [],
   "source": [
    "conn.send(b\"Hello world!\\r\\n\")"
   ]
  },
  {
   "cell_type": "code",
   "execution_count": null,
   "id": "e7ff238d-5a04-4e46-accd-c1608a6f76bc",
   "metadata": {},
   "outputs": [],
   "source": [
    "conn.send(b\"\\r\\n\")"
   ]
  },
  {
   "cell_type": "code",
   "execution_count": null,
   "id": "a0cd5ff1-dc2a-464a-b316-7220b45b8ec2",
   "metadata": {},
   "outputs": [],
   "source": [
    "conn.rts = False\n",
    "time.sleep(0.1)\n",
    "conn.rts = True"
   ]
  }
 ],
 "metadata": {
  "kernelspec": {
   "display_name": "Python 3 (ipykernel)",
   "language": "python",
   "name": "python3"
  },
  "language_info": {
   "codemirror_mode": {
    "name": "ipython",
    "version": 3
   },
   "file_extension": ".py",
   "mimetype": "text/x-python",
   "name": "python",
   "nbconvert_exporter": "python",
   "pygments_lexer": "ipython3",
   "version": "3.13.7"
  }
 },
 "nbformat": 4,
 "nbformat_minor": 5
}
