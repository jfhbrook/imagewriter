{
 "cells": [
  {
   "cell_type": "code",
   "execution_count": 1,
   "id": "a27f4688-b19d-40ae-995f-3881cfa4fdf2",
   "metadata": {},
   "outputs": [],
   "source": [
    "import serial\n",
    "from serial.tools.list_ports import comports\n",
    "import time\n",
    "\n",
    "from imagewriter.debug import FlowControlLogger\n",
    "from imagewriter.encoding.attributes import START_DOUBLE_WIDTH, STOP_DOUBLE_WIDTH\n",
    "from imagewriter.encoding.language import Language\n",
    "from imagewriter.encoding.motion import FF\n",
    "from imagewriter.encoding.switch import SoftwareSwitch\n",
    "import imagewriter.serial\n",
    "from tests.fixtures import HELLO_WORLD\n",
    "\n",
    "PORT = '/dev/cu.PL2303G-USBtoUART1120' # Depends on system\n",
    "BAUD_RATE = 9600 # Depends on DIP switches\n",
    "\n",
    "conn = None\n",
    "flow_control_logger = None"
   ]
  },
  {
   "cell_type": "code",
   "execution_count": 2,
   "id": "834f9fea-6685-4652-81a2-7c44ebe9fca6",
   "metadata": {},
   "outputs": [],
   "source": [
    "def list_ports():\n",
    "    return [ port.device for port in comports()]\n",
    "\n",
    "\n",
    "def connect(subclass=False, log=True):\n",
    "    global conn\n",
    "    global flow_control_logger\n",
    "\n",
    "    if conn:\n",
    "        conn.close()\n",
    "\n",
    "    if subclass:\n",
    "        conn = imagewriter.serial.Serial(\n",
    "            port=PORT,\n",
    "            baudrate=BAUD_RATE\n",
    "        )\n",
    "    else:\n",
    "        conn = serial.Serial(\n",
    "            port=PORT,\n",
    "            baudrate=BAUD_RATE,\n",
    "            bytesize=serial.EIGHTBITS,\n",
    "            parity=serial.PARITY_NONE,\n",
    "            stopbits=serial.STOPBITS_ONE,\n",
    "            dsrdtr=True,\n",
    "            rtscts=True,\n",
    "            xonxoff=False\n",
    "        )\n",
    "\n",
    "    running = flow_control_logger.running if flow_control_logger else False\n",
    "\n",
    "    if flow_control_logger:\n",
    "        flow_control_logger.serial = conn\n",
    "        \n",
    "    else:\n",
    "        flow_control_logger = FlowControlLogger(conn)\n",
    "\n",
    "    if log and not running:\n",
    "        flow_control_logger.start()\n",
    "\n",
    "\n",
    "def close():\n",
    "    global conn\n",
    "    global flow_control_logger\n",
    "    \n",
    "    conn.close()\n",
    "    flow_control_logger.shutdown()\n",
    "    conn = None\n",
    "    flow_control_logger = None\n",
    "\n",
    "\n",
    "def toggle():\n",
    "    conn.rts = False\n",
    "    time.sleep(0.1)\n",
    "    conn.rts = True\n",
    "\n",
    "\n",
    "def disable_rtscts():\n",
    "    conn.rtscts = False\n",
    "\n",
    "\n",
    "def enable_rtscts():\n",
    "    conn.rtscts = True\n",
    "\n",
    "\n",
    "def config():\n",
    "    commands = SoftwareSwitch.toggle(\n",
    "        SoftwareSwitch.LANGUAGE_1,\n",
    "        SoftwareSwitch.LANGUAGE_2,\n",
    "        SoftwareSwitch.LANGUAGE_3,\n",
    "        # SoftwareSwitch.SOFTWARE_SELECT_RESPONSE_DISABLED,\n",
    "        # SoftwareSwitch.LF_WHEN_LINE_FULL,\n",
    "        # SoftwareSwitch.PRINT_COMMANDS_INCLUDE_LF_FF,\n",
    "        # SoftwareSwitch.AUTO_LF_AFTER_CR,\n",
    "        # SoftwareSwitch.SLASHED_ZERO,\n",
    "        # SoftwareSwitch.PERFORATION_SKIP_DISABLED,\n",
    "        # SoftwareSwitch.IGNORE_EIGHTH_DATA_BIT,\n",
    "        # *SoftwareSwitch.language_switches(Language.AMERICAN)\n",
    "    )\n",
    "    for cmd in commands:\n",
    "        conn.write(bytes(cmd))\n",
    "    conn.write(b\"\\r\")"
   ]
  },
  {
   "cell_type": "code",
   "execution_count": null,
   "id": "20c93b20-9d64-45dc-a91a-94ddb217554a",
   "metadata": {},
   "outputs": [],
   "source": [
    "connect(subclass=False, log=True)"
   ]
  },
  {
   "cell_type": "code",
   "execution_count": null,
   "id": "42c8b617-6c37-47ef-b35e-44b711c8830d",
   "metadata": {
    "scrolled": true
   },
   "outputs": [],
   "source": [
    "flow_control_logger.start()"
   ]
  },
  {
   "cell_type": "code",
   "execution_count": null,
   "id": "647457c5-669a-41ce-aac2-b18d0e9658c2",
   "metadata": {},
   "outputs": [],
   "source": [
    "flow_control_logger.stop()"
   ]
  },
  {
   "cell_type": "code",
   "execution_count": 3,
   "id": "49236b1e-4928-44e1-b5d7-394f8edb8674",
   "metadata": {},
   "outputs": [
    {
     "name": "stdout",
     "output_type": "stream",
     "text": [
      "close command:\n",
      "0b11100000 0b0\n"
     ]
    }
   ],
   "source": [
    "config()"
   ]
  },
  {
   "cell_type": "code",
   "execution_count": null,
   "id": "87262ebd-90b8-45ea-909c-80bc27f171a3",
   "metadata": {},
   "outputs": [],
   "source": [
    "i = 0\n",
    "\n",
    "while conn.cts and i < 2048:\n",
    "    conn.write(b\"x\")\n",
    "    i += 1\n",
    "\n",
    "print(f\"Printer accepted {i} bytes before disabling CTS\")\n",
    "\n",
    "disable_rtscts()\n",
    "\n",
    "conn.write(b\"Hello!\\r\\n\")\n",
    "\n",
    "enable_rtscts()\n",
    "\n",
    "toggle()"
   ]
  },
  {
   "cell_type": "code",
   "execution_count": null,
   "id": "e7ff238d-5a04-4e46-accd-c1608a6f76bc",
   "metadata": {},
   "outputs": [],
   "source": [
    "conn.write(b\"Hello world!\\r\\n\")"
   ]
  },
  {
   "cell_type": "code",
   "execution_count": null,
   "id": "a0cd5ff1-dc2a-464a-b316-7220b45b8ec2",
   "metadata": {},
   "outputs": [],
   "source": [
    "toggle()"
   ]
  },
  {
   "cell_type": "code",
   "execution_count": null,
   "id": "587aaa57-432c-44d9-b7e8-3c8ede8f15d9",
   "metadata": {},
   "outputs": [],
   "source": [
    "conn.rts = False"
   ]
  },
  {
   "cell_type": "code",
   "execution_count": null,
   "id": "b84b141c-850f-486a-b2ad-4cee58cc9312",
   "metadata": {},
   "outputs": [],
   "source": [
    "conn.rts = True"
   ]
  },
  {
   "cell_type": "code",
   "execution_count": null,
   "id": "d38f825b-ce1a-4236-a03e-6b88f3efe717",
   "metadata": {},
   "outputs": [],
   "source": [
    "close()"
   ]
  },
  {
   "cell_type": "code",
   "execution_count": null,
   "id": "e259fc51-2945-4d4f-a290-2e6d96f69fe5",
   "metadata": {},
   "outputs": [],
   "source": [
    "conn.close()"
   ]
  },
  {
   "cell_type": "code",
   "execution_count": null,
   "id": "344d2c7f-df6d-4817-a5eb-d144b0c3c766",
   "metadata": {},
   "outputs": [],
   "source": [
    "conn.open()"
   ]
  },
  {
   "cell_type": "code",
   "execution_count": null,
   "id": "129bd4db-368a-49ce-a1ed-0f8541742781",
   "metadata": {},
   "outputs": [],
   "source": [
    "print(\"8765432187654321\")\n",
    "print(bin(SoftwareSwitch.LANGUAGE_1.value)[2:].rjust(16, \"|\"))\n",
    "print(bin(SoftwareSwitch.LANGUAGE_2.value)[2:].rjust(16, \"|\"))\n",
    "print(bin(SoftwareSwitch.LANGUAGE_3.value)[2:].rjust(16, \"|\"))\n",
    "print(bin(SoftwareSwitch.SOFTWARE_SELECT_RESPONSE_DISABLED.value)[2:].rjust(16, \"|\"))\n",
    "print(bin(SoftwareSwitch.LF_WHEN_LINE_FULL.value)[2:].rjust(16, \"|\"))\n",
    "print(bin(SoftwareSwitch.PRINT_COMMANDS_INCLUDE_LF_FF.value)[2:].rjust(16, \"|\"))\n",
    "print(bin(SoftwareSwitch.AUTO_LF_AFTER_CR.value)[2:].rjust(16, \"|\"))\n",
    "print(bin(SoftwareSwitch.SLASHED_ZERO.value)[2:].rjust(16, \"|\"))\n",
    "print(bin(SoftwareSwitch.PERFORATION_SKIP_DISABLED.value)[2:].rjust(16, \"|\"))\n",
    "print(bin(SoftwareSwitch.IGNORE_EIGHTH_DATA_BIT.value)[2:].rjust(16, \"|\"))"
   ]
  },
  {
   "cell_type": "code",
   "execution_count": null,
   "id": "1db794c7-3224-4225-9ebe-1447460b1f66",
   "metadata": {},
   "outputs": [],
   "source": [
    "bin(2)"
   ]
  },
  {
   "cell_type": "code",
   "execution_count": 9,
   "id": "e3fe4905-1680-415a-844f-8345a2b0f95f",
   "metadata": {},
   "outputs": [
    {
     "name": "stdout",
     "output_type": "stream",
     "text": [
      "  12345678 12345678\n",
      "0b1100000 10000000\n",
      "0b1100000\n",
      "0b10000000\n"
     ]
    }
   ],
   "source": [
    "import struct\n",
    "\n",
    "def print_switch_bank(bank: int):\n",
    "    print(\"12345678\")\n",
    "    print(bin(bank)[2:].replace(\"0\", \"|\").replace(\"1\", \"x\").rjust(8, \"|\"))\n",
    "\n",
    "def in_binary(n: int):\n",
    "    return bin(n)[2:].rjust(16, \"0\")\n",
    "\n",
    "switches = {\n",
    "    SoftwareSwitch.LANGUAGE_1,\n",
    "    # SoftwareSwitch.LANGUAGE_2,\n",
    "    # SoftwareSwitch.LANGUAGE_3,\n",
    "    SoftwareSwitch.SOFTWARE_SELECT_RESPONSE_DISABLED,\n",
    "    SoftwareSwitch.LF_WHEN_LINE_FULL,\n",
    "    SoftwareSwitch.PRINT_COMMANDS_INCLUDE_LF_FF,\n",
    "    SoftwareSwitch.AUTO_LF_AFTER_CR,\n",
    "    # SoftwareSwitch.SLASHED_ZERO,\n",
    "    SoftwareSwitch.PERFORATION_SKIP_DISABLED,\n",
    "    SoftwareSwitch.IGNORE_EIGHTH_DATA_BIT,\n",
    "}\n",
    "\n",
    "switches = {\n",
    "    # SoftwareSwitch.LANGUAGE_1,\n",
    "    SoftwareSwitch.LANGUAGE_2,\n",
    "    SoftwareSwitch.LANGUAGE_3,\n",
    "    # SoftwareSwitch.SOFTWARE_SELECT_RESPONSE_DISABLED,\n",
    "    # SoftwareSwitch.LF_WHEN_LINE_FULL,\n",
    "    # SoftwareSwitch.PRINT_COMMANDS_INCLUDE_LF_FF,\n",
    "    # SoftwareSwitch.AUTO_LF_AFTER_CR,\n",
    "    SoftwareSwitch.SLASHED_ZERO,\n",
    "    # SoftwareSwitch.PERFORATION_SKIP_DISABLED,\n",
    "    # SoftwareSwitch.IGNORE_EIGHTH_DATA_BIT,\n",
    "}\n",
    "\n",
    "bank_a = 0\n",
    "bank_b = 0\n",
    "\n",
    "def algorithm_a():\n",
    "    global bank_a\n",
    "    global bank_b\n",
    "    \n",
    "    for sw in sorted(switches, key=lambda s: s.value):\n",
    "        v = sw.value\n",
    "        b = 0\n",
    "        # for i in range(1, 9):\n",
    "        #     print(256 >> i)\n",
    "        # print('---')\n",
    "        # for i in range(0, 8):\n",
    "        #     print(1 << i)\n",
    "        # print('---')\n",
    "        for i in range(0, 16):\n",
    "            # ith bit\n",
    "            bit = v & (1 << i)\n",
    "    \n",
    "            if bit:\n",
    "                swapped = 0x8000 >> i\n",
    "                if i < 8:\n",
    "                    swapped = swapped >> 8\n",
    "                    bank_a |= swapped\n",
    "                else:\n",
    "                    bank_b |= swapped\n",
    "\n",
    "def algorithm_b():\n",
    "    global bank_a\n",
    "    global bank_b\n",
    "\n",
    "    big_endian = 0\n",
    "    \n",
    "    for sw in sorted(switches, key=lambda s: s.value):\n",
    "        big_endian |= sw.value\n",
    "\n",
    "    for i in range(0, 16):\n",
    "        bit = big_endian & (1 << i)\n",
    "    \n",
    "        if bit:\n",
    "            swapped = 0x8000 >> i\n",
    "            if i < 8:\n",
    "                swapped = swapped >> 8\n",
    "                bank_a |= swapped\n",
    "            else:\n",
    "                bank_b |= swapped\n",
    "\n",
    "algorithm_b()\n",
    "\n",
    "print(\"  12345678 12345678\")\n",
    "print(f\"0b{bin(bank_a)[2:]} {bin(bank_b)[2:]}\")\n",
    "\n",
    "buffer = bytes([bank_a, bank_b])\n",
    "print(bin(buffer[0]))\n",
    "print(bin(buffer[1]))"
   ]
  },
  {
   "cell_type": "code",
   "execution_count": null,
   "id": "27880ced-724f-4cd9-951e-9a1d38afaa26",
   "metadata": {},
   "outputs": [],
   "source": [
    "print(bin(0x80))"
   ]
  },
  {
   "cell_type": "code",
   "execution_count": null,
   "id": "10dc2134-c3d1-4e1c-a3b6-cf596ae0ea66",
   "metadata": {},
   "outputs": [],
   "source": [
    "hex(0b10000000)"
   ]
  },
  {
   "cell_type": "code",
   "execution_count": null,
   "id": "c6b24de3-7815-478d-a05d-5c912ec5ccf1",
   "metadata": {},
   "outputs": [],
   "source": [
    "hex(0x8000 >> 8)"
   ]
  },
  {
   "cell_type": "code",
   "execution_count": 10,
   "id": "2eb943fe-2447-47f8-895c-a9a4dc2e88ec",
   "metadata": {},
   "outputs": [
    {
     "data": {
      "text/plain": [
       "b'a'"
      ]
     },
     "execution_count": 10,
     "metadata": {},
     "output_type": "execute_result"
    }
   ],
   "source": [
    "b\"ab\"[0:1]"
   ]
  },
  {
   "cell_type": "code",
   "execution_count": null,
   "id": "9cf20772-158f-411a-b2f1-2b824191ef72",
   "metadata": {},
   "outputs": [],
   "source": []
  }
 ],
 "metadata": {
  "kernelspec": {
   "display_name": "Python 3 (ipykernel)",
   "language": "python",
   "name": "python3"
  },
  "language_info": {
   "codemirror_mode": {
    "name": "ipython",
    "version": 3
   },
   "file_extension": ".py",
   "mimetype": "text/x-python",
   "name": "python",
   "nbconvert_exporter": "python",
   "pygments_lexer": "ipython3",
   "version": "3.13.7"
  }
 },
 "nbformat": 4,
 "nbformat_minor": 5
}
