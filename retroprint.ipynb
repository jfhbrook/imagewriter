{
 "cells": [
  {
   "cell_type": "code",
   "execution_count": null,
   "id": "a27f4688-b19d-40ae-995f-3881cfa4fdf2",
   "metadata": {},
   "outputs": [],
   "source": [
    "import serial\n",
    "\n",
    "# Port depends on system\n",
    "PORT = '/dev/cu.PL2303G-USBtoUART1130'\n",
    "\n",
    "BAUD_RATE = 9600\n",
    "\n",
    "with serial.Serial(\n",
    "    PORT,\n",
    "    baudrate=BAUD_RATE,\n",
    "    bytesize=serial.EIGHTBITS,\n",
    "    stopbits=serial.STOPBITS_ONE,\n",
    "    parity=serial.PARITY_NONE,\n",
    "    # NOTE: May not work over USB\n",
    "    dsrdtr=True,\n",
    ") as connection:\n",
    "    connection.write(b\"Hello world!\\n\")\n",
    "    # TODO: This hangs because the printer doesn't return anything,\n",
    "    # but without it the write doesn't go to the printer...\n",
    "    connection.read(1)\n",
    "    print(\"success\")"
   ]
  },
  {
   "cell_type": "code",
   "execution_count": 1,
   "id": "834f9fea-6685-4652-81a2-7c44ebe9fca6",
   "metadata": {},
   "outputs": [
    {
     "data": {
      "text/plain": [
       "['/dev/cu.debug-console',\n",
       " '/dev/cu.JabraEvolve65',\n",
       " '/dev/cu.stardeck',\n",
       " '/dev/cu.Bluetooth-Incoming-Port',\n",
       " '/dev/cu.PL2303G-USBtoUART1130']"
      ]
     },
     "execution_count": 1,
     "metadata": {},
     "output_type": "execute_result"
    }
   ],
   "source": [
    "from serial.tools.list_ports import comports\n",
    "\n",
    "[ port.device for port in comports()]"
   ]
  },
  {
   "cell_type": "code",
   "execution_count": null,
   "id": "20c93b20-9d64-45dc-a91a-94ddb217554a",
   "metadata": {},
   "outputs": [],
   "source": []
  }
 ],
 "metadata": {
  "kernelspec": {
   "display_name": "Python 3 (ipykernel)",
   "language": "python",
   "name": "python3"
  },
  "language_info": {
   "codemirror_mode": {
    "name": "ipython",
    "version": 3
   },
   "file_extension": ".py",
   "mimetype": "text/x-python",
   "name": "python",
   "nbconvert_exporter": "python",
   "pygments_lexer": "ipython3",
   "version": "3.13.7"
  }
 },
 "nbformat": 4,
 "nbformat_minor": 5
}
